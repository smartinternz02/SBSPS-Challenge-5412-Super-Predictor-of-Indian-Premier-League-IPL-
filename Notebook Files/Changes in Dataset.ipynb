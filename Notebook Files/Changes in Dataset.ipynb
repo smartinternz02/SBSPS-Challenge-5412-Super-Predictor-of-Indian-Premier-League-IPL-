{
 "cells": [
  {
   "cell_type": "markdown",
   "id": "69f60a12",
   "metadata": {},
   "source": [
    "# Few Important Changes Made to Dataset to optimise results in Cognos Analytics Dashboard"
   ]
  },
  {
   "cell_type": "markdown",
   "id": "5ee8d4a8",
   "metadata": {},
   "source": [
    "Let us import and prepare data for IBM Cognos Analytics to create dashboard"
   ]
  },
  {
   "cell_type": "code",
   "execution_count": 22,
   "id": "9ad71146",
   "metadata": {},
   "outputs": [],
   "source": [
    "import pandas as pd"
   ]
  },
  {
   "cell_type": "code",
   "execution_count": 23,
   "id": "ab7878da",
   "metadata": {},
   "outputs": [],
   "source": [
    "df = pd.read_csv(\"matchesCopy.csv\")"
   ]
  },
  {
   "cell_type": "code",
   "execution_count": 24,
   "id": "1849b9a6",
   "metadata": {},
   "outputs": [
    {
     "data": {
      "text/html": [
       "<div>\n",
       "<style scoped>\n",
       "    .dataframe tbody tr th:only-of-type {\n",
       "        vertical-align: middle;\n",
       "    }\n",
       "\n",
       "    .dataframe tbody tr th {\n",
       "        vertical-align: top;\n",
       "    }\n",
       "\n",
       "    .dataframe thead th {\n",
       "        text-align: right;\n",
       "    }\n",
       "</style>\n",
       "<table border=\"1\" class=\"dataframe\">\n",
       "  <thead>\n",
       "    <tr style=\"text-align: right;\">\n",
       "      <th></th>\n",
       "      <th>id</th>\n",
       "      <th>season</th>\n",
       "      <th>city</th>\n",
       "      <th>date</th>\n",
       "      <th>team1</th>\n",
       "      <th>team2</th>\n",
       "      <th>toss_winner</th>\n",
       "      <th>toss_decision</th>\n",
       "      <th>result</th>\n",
       "      <th>dl_applied</th>\n",
       "      <th>winner</th>\n",
       "      <th>win_by_runs</th>\n",
       "      <th>win_by_wickets</th>\n",
       "      <th>player_of_match</th>\n",
       "      <th>venue</th>\n",
       "      <th>umpire1</th>\n",
       "      <th>umpire2</th>\n",
       "      <th>umpire3</th>\n",
       "    </tr>\n",
       "  </thead>\n",
       "  <tbody>\n",
       "    <tr>\n",
       "      <th>0</th>\n",
       "      <td>1</td>\n",
       "      <td>2017</td>\n",
       "      <td>Hyderabad</td>\n",
       "      <td>05-04-2017</td>\n",
       "      <td>Sunrisers Hyderabad</td>\n",
       "      <td>Royal Challengers Bangalore</td>\n",
       "      <td>Royal Challengers Bangalore</td>\n",
       "      <td>field</td>\n",
       "      <td>normal</td>\n",
       "      <td>0</td>\n",
       "      <td>Sunrisers Hyderabad</td>\n",
       "      <td>35</td>\n",
       "      <td>0</td>\n",
       "      <td>Yuvraj Singh</td>\n",
       "      <td>Rajiv Gandhi International Stadium, Uppal</td>\n",
       "      <td>AY Dandekar</td>\n",
       "      <td>NJ Llong</td>\n",
       "      <td>NaN</td>\n",
       "    </tr>\n",
       "    <tr>\n",
       "      <th>1</th>\n",
       "      <td>2</td>\n",
       "      <td>2017</td>\n",
       "      <td>Pune</td>\n",
       "      <td>06-04-2017</td>\n",
       "      <td>Mumbai Indians</td>\n",
       "      <td>Rising Pune Supergiant</td>\n",
       "      <td>Rising Pune Supergiant</td>\n",
       "      <td>field</td>\n",
       "      <td>normal</td>\n",
       "      <td>0</td>\n",
       "      <td>Rising Pune Supergiant</td>\n",
       "      <td>0</td>\n",
       "      <td>7</td>\n",
       "      <td>SPD Smith</td>\n",
       "      <td>Maharashtra Cricket Association Stadium</td>\n",
       "      <td>A Nand Kishore</td>\n",
       "      <td>S Ravi</td>\n",
       "      <td>NaN</td>\n",
       "    </tr>\n",
       "    <tr>\n",
       "      <th>2</th>\n",
       "      <td>3</td>\n",
       "      <td>2017</td>\n",
       "      <td>Rajkot</td>\n",
       "      <td>07-04-2017</td>\n",
       "      <td>Gujarat Lions</td>\n",
       "      <td>Kolkata Knight Riders</td>\n",
       "      <td>Kolkata Knight Riders</td>\n",
       "      <td>field</td>\n",
       "      <td>normal</td>\n",
       "      <td>0</td>\n",
       "      <td>Kolkata Knight Riders</td>\n",
       "      <td>0</td>\n",
       "      <td>10</td>\n",
       "      <td>CA Lynn</td>\n",
       "      <td>Saurashtra Cricket Association Stadium</td>\n",
       "      <td>Nitin Menon</td>\n",
       "      <td>CK Nandan</td>\n",
       "      <td>NaN</td>\n",
       "    </tr>\n",
       "    <tr>\n",
       "      <th>3</th>\n",
       "      <td>4</td>\n",
       "      <td>2017</td>\n",
       "      <td>Indore</td>\n",
       "      <td>08-04-2017</td>\n",
       "      <td>Rising Pune Supergiant</td>\n",
       "      <td>Kings XI Punjab</td>\n",
       "      <td>Kings XI Punjab</td>\n",
       "      <td>field</td>\n",
       "      <td>normal</td>\n",
       "      <td>0</td>\n",
       "      <td>Kings XI Punjab</td>\n",
       "      <td>0</td>\n",
       "      <td>6</td>\n",
       "      <td>GJ Maxwell</td>\n",
       "      <td>Holkar Cricket Stadium</td>\n",
       "      <td>AK Chaudhary</td>\n",
       "      <td>C Shamshuddin</td>\n",
       "      <td>NaN</td>\n",
       "    </tr>\n",
       "    <tr>\n",
       "      <th>4</th>\n",
       "      <td>5</td>\n",
       "      <td>2017</td>\n",
       "      <td>Bangalore</td>\n",
       "      <td>08-04-2017</td>\n",
       "      <td>Royal Challengers Bangalore</td>\n",
       "      <td>Delhi Daredevils</td>\n",
       "      <td>Royal Challengers Bangalore</td>\n",
       "      <td>bat</td>\n",
       "      <td>normal</td>\n",
       "      <td>0</td>\n",
       "      <td>Royal Challengers Bangalore</td>\n",
       "      <td>15</td>\n",
       "      <td>0</td>\n",
       "      <td>KM Jadhav</td>\n",
       "      <td>M Chinnaswamy Stadium</td>\n",
       "      <td>Virender Sharma</td>\n",
       "      <td>S Ravi</td>\n",
       "      <td>NaN</td>\n",
       "    </tr>\n",
       "  </tbody>\n",
       "</table>\n",
       "</div>"
      ],
      "text/plain": [
       "   id  season       city        date                        team1  \\\n",
       "0   1    2017  Hyderabad  05-04-2017          Sunrisers Hyderabad   \n",
       "1   2    2017       Pune  06-04-2017               Mumbai Indians   \n",
       "2   3    2017     Rajkot  07-04-2017                Gujarat Lions   \n",
       "3   4    2017     Indore  08-04-2017       Rising Pune Supergiant   \n",
       "4   5    2017  Bangalore  08-04-2017  Royal Challengers Bangalore   \n",
       "\n",
       "                         team2                  toss_winner toss_decision  \\\n",
       "0  Royal Challengers Bangalore  Royal Challengers Bangalore         field   \n",
       "1       Rising Pune Supergiant       Rising Pune Supergiant         field   \n",
       "2        Kolkata Knight Riders        Kolkata Knight Riders         field   \n",
       "3              Kings XI Punjab              Kings XI Punjab         field   \n",
       "4             Delhi Daredevils  Royal Challengers Bangalore           bat   \n",
       "\n",
       "   result  dl_applied                       winner  win_by_runs  \\\n",
       "0  normal           0          Sunrisers Hyderabad           35   \n",
       "1  normal           0       Rising Pune Supergiant            0   \n",
       "2  normal           0        Kolkata Knight Riders            0   \n",
       "3  normal           0              Kings XI Punjab            0   \n",
       "4  normal           0  Royal Challengers Bangalore           15   \n",
       "\n",
       "   win_by_wickets player_of_match                                      venue  \\\n",
       "0               0    Yuvraj Singh  Rajiv Gandhi International Stadium, Uppal   \n",
       "1               7       SPD Smith    Maharashtra Cricket Association Stadium   \n",
       "2              10         CA Lynn     Saurashtra Cricket Association Stadium   \n",
       "3               6      GJ Maxwell                     Holkar Cricket Stadium   \n",
       "4               0       KM Jadhav                      M Chinnaswamy Stadium   \n",
       "\n",
       "           umpire1        umpire2 umpire3  \n",
       "0      AY Dandekar       NJ Llong     NaN  \n",
       "1   A Nand Kishore         S Ravi     NaN  \n",
       "2      Nitin Menon      CK Nandan     NaN  \n",
       "3     AK Chaudhary  C Shamshuddin     NaN  \n",
       "4  Virender Sharma         S Ravi     NaN  "
      ]
     },
     "execution_count": 24,
     "metadata": {},
     "output_type": "execute_result"
    }
   ],
   "source": [
    "df.head()"
   ]
  },
  {
   "cell_type": "markdown",
   "id": "9876753b",
   "metadata": {},
   "source": [
    "We are dropping unnecessary columns"
   ]
  },
  {
   "cell_type": "code",
   "execution_count": 25,
   "id": "37acbf88",
   "metadata": {},
   "outputs": [],
   "source": [
    "df.drop(['id', 'date', 'dl_applied', 'venue', 'umpire3'], axis = 1, inplace = True)\n",
    "df.to_csv('matchesCopy.csv')"
   ]
  },
  {
   "cell_type": "markdown",
   "id": "5b0799fa",
   "metadata": {},
   "source": [
    "Preparing columns to have list of teams that have lost"
   ]
  },
  {
   "cell_type": "code",
   "execution_count": 26,
   "id": "8e993119",
   "metadata": {},
   "outputs": [],
   "source": [
    "#Creating a function that will handle return losing team values to the csv file\n",
    "\n",
    "def loser(cols):\n",
    "    team1 = cols[0]\n",
    "    team2 = cols[1]\n",
    "    winner = cols[2]\n",
    "    \n",
    "    if team1 != winner:\n",
    "        return team1\n",
    "    if team2 != winner:\n",
    "        return team2"
   ]
  },
  {
   "cell_type": "code",
   "execution_count": 27,
   "id": "d5e01ce8",
   "metadata": {},
   "outputs": [],
   "source": [
    "df['loser'] = \"\"\n",
    "df['loser'] = df[['team1', 'team2', 'winner']].apply(loser, axis = 1)"
   ]
  },
  {
   "cell_type": "code",
   "execution_count": 28,
   "id": "dbe21d60",
   "metadata": {},
   "outputs": [],
   "source": [
    "df.to_csv('matchesCopy.csv')"
   ]
  },
  {
   "cell_type": "markdown",
   "id": "ff88e64a",
   "metadata": {},
   "source": [
    "It is to find out the team that has won both match and toss"
   ]
  },
  {
   "cell_type": "code",
   "execution_count": 29,
   "id": "6c23423f",
   "metadata": {},
   "outputs": [],
   "source": [
    "#This function is to identify the teams that has won both the match and the toss.\n",
    "\n",
    "def tossMatch(cols):\n",
    "    winner = cols[0]\n",
    "    toss_winner = cols[1]\n",
    "    \n",
    "    \n",
    "    if toss_winner == winner:\n",
    "        return winner"
   ]
  },
  {
   "cell_type": "code",
   "execution_count": 30,
   "id": "88802fba",
   "metadata": {},
   "outputs": [],
   "source": [
    "df['toss/win'] = \"\"\n",
    "df['toss/win'] = df[['winner', 'toss_winner']].apply(tossMatch, axis = 1)"
   ]
  },
  {
   "cell_type": "code",
   "execution_count": 31,
   "id": "8fe7f7a6",
   "metadata": {},
   "outputs": [],
   "source": [
    "df.to_csv('matchesCopy.csv')"
   ]
  },
  {
   "cell_type": "markdown",
   "id": "2c0aaf26",
   "metadata": {},
   "source": [
    "Creating a seperate datasheet to contain total no of wins, total no of losses, total no of tosswins"
   ]
  },
  {
   "cell_type": "code",
   "execution_count": 33,
   "id": "ee89716c",
   "metadata": {},
   "outputs": [],
   "source": [
    "mostWins = dict(df['winner'].value_counts())\n",
    "mostLoss = dict(df['loser'].value_counts())\n",
    "tosswin = dict(df['toss/win'].value_counts())\n",
    "\n",
    "df_Matches2 = pd.DataFrame.from_dict(data = [mostWins,tosswin,mostLoss]).T\n",
    "df_Matches2.columns = ['Wins', 'Tosswins', 'Loss']"
   ]
  },
  {
   "cell_type": "code",
   "execution_count": 35,
   "id": "7dacb1c4",
   "metadata": {},
   "outputs": [],
   "source": [
    "df_Matches2.to_csv(\"Sheet2.csv\")"
   ]
  },
  {
   "cell_type": "markdown",
   "id": "187a6df6",
   "metadata": {},
   "source": [
    "It is to find out the most winning team season wise"
   ]
  },
  {
   "cell_type": "code",
   "execution_count": 36,
   "id": "b0f50a12",
   "metadata": {},
   "outputs": [],
   "source": [
    "season = [2008, 2009, 2010, 2011, 2012, 2013, 2014, 2015, 2016, 2017, 2018, 2019]\n",
    "teams = ['Delhi Daredevils', 'Delhi Daredevils','Mumbai Indians', 'Chennai Super Kings', \n",
    "         'Kolkata Knight Riders', 'Mumbai Indians', 'Kings XI Punjab', 'Chennai Super Kings', 'Sunrisers Hyderabad', \n",
    "         'Mumbai Indians', 'Chennai Super Kings', 'Mumbai Indians']\n",
    "count_wins = [10, 10, 11, 11, 12, 13, 12, 10, 11, 12, 11, 11]\n",
    "\n",
    "df_prob6 = pd.DataFrame(list(zip(season, teams, count_wins)), columns = ['season', 'teams', 'wins'])"
   ]
  },
  {
   "cell_type": "code",
   "execution_count": 37,
   "id": "3e712a74",
   "metadata": {},
   "outputs": [],
   "source": [
    "df_prob6.to_csv(\"Problem6.csv\")"
   ]
  },
  {
   "cell_type": "markdown",
   "id": "de44a099",
   "metadata": {},
   "source": [
    "Most winning team after batting first and second columns are created here"
   ]
  },
  {
   "cell_type": "code",
   "execution_count": 38,
   "id": "09413b26",
   "metadata": {},
   "outputs": [],
   "source": [
    "def winBat(cols):\n",
    "    winner = cols[0]\n",
    "    toss_winner = cols[1]\n",
    "    toss_decision = cols[2]\n",
    "    \n",
    "    if winner == toss_winner:\n",
    "        if toss_decision == 'bat':\n",
    "            return winner\n",
    "    else:\n",
    "        if toss_decision == 'field':\n",
    "            return winner\n",
    "        \n",
    "df['batfirst'] = \"\"\n",
    "df['batfirst'] = df[['winner', 'toss_winner', 'toss_decision']].apply(winBat, axis = 1)"
   ]
  },
  {
   "cell_type": "code",
   "execution_count": 39,
   "id": "b5323626",
   "metadata": {},
   "outputs": [],
   "source": [
    "def winBowl(cols):\n",
    "    winner = cols[0]\n",
    "    toss_winner = cols[1]\n",
    "    toss_decision = cols[2]\n",
    "    \n",
    "    if winner == toss_winner:\n",
    "        if toss_decision == 'field':\n",
    "            return winner\n",
    "    else:\n",
    "        if toss_decision == 'bat':\n",
    "            return winner\n",
    "\n",
    "df['batsecond'] = \"\"\n",
    "df['batsecond'] = df[['winner', 'toss_winner', 'toss_decision']].apply(winBowl, axis = 1)"
   ]
  },
  {
   "cell_type": "code",
   "execution_count": 43,
   "id": "19db7a19",
   "metadata": {},
   "outputs": [],
   "source": [
    "df.to_csv(\"matchesCopy.csv\")"
   ]
  }
 ],
 "metadata": {
  "kernelspec": {
   "display_name": "Python 3",
   "language": "python",
   "name": "python3"
  },
  "language_info": {
   "codemirror_mode": {
    "name": "ipython",
    "version": 3
   },
   "file_extension": ".py",
   "mimetype": "text/x-python",
   "name": "python",
   "nbconvert_exporter": "python",
   "pygments_lexer": "ipython3",
   "version": "3.9.4"
  }
 },
 "nbformat": 4,
 "nbformat_minor": 5
}
